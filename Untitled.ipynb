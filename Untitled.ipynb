{
 "cells": [
  {
   "cell_type": "code",
   "execution_count": 20,
   "metadata": {},
   "outputs": [],
   "source": [
    "from __future__ import absolute_import\n",
    "from __future__  import division\n",
    "from __future__ import print_function\n",
    "import tensorflow as tf\n",
    "import numpy as np\n",
    "from skimage.io import imread\n",
    "from skimage.transform import resize\n",
    "import cv2\n",
    "import numpy as np\n",
    "import os\n",
    "from PIL import Image\n",
    "from io import BytesIO\n",
    "import time\n",
    "import string\n"
   ]
  },
  {
   "cell_type": "code",
   "execution_count": 3,
   "metadata": {},
   "outputs": [
    {
     "output_type": "stream",
     "name": "stdout",
     "text": [
      "[name: \"/device:CPU:0\"\ndevice_type: \"CPU\"\nmemory_limit: 268435456\nlocality {\n}\nincarnation: 11284758658326729008\n]\n"
     ]
    }
   ],
   "source": [
    "from tensorflow.python.client import device_lib\n",
    "print(device_lib.list_local_devices())"
   ]
  },
  {
   "cell_type": "code",
   "execution_count": null,
   "metadata": {},
   "outputs": [],
   "source": []
  },
  {
   "cell_type": "code",
   "execution_count": 4,
   "metadata": {},
   "outputs": [],
   "source": [
    "def mamon_videoFightModel2(tf,wight='mamonbest947oscombo.hdfs'):\n",
    "    layers = tf.keras.layers\n",
    "    models = tf.keras.models\n",
    "    losses = tf.keras.losses\n",
    "    optimizers = tf.keras.optimizers\n",
    "    metrics = tf.keras.metrics\n",
    "    num_classes = 2\n",
    "    cnn = models.Sequential()\n",
    "    #cnn.add(base_model)\n",
    "\n",
    "    input_shapes=(160,160,3)\n",
    "    np.random.seed(1234)\n",
    "    vg19 = tf.keras.applications.vgg19.VGG19\n",
    "    base_model = vg19(include_top=False,weights='imagenet',input_shape=(160, 160,3))\n",
    "    # Freeze the layers except the last 4 layers\n",
    "    #for layer in base_model.layers:\n",
    "    #    layer.trainable = False\n",
    "\n",
    "    cnn = models.Sequential()\n",
    "    cnn.add(base_model)\n",
    "    cnn.add(layers.Flatten())\n",
    "    model = models.Sequential()\n",
    "\n",
    "    model.add(layers.TimeDistributed(cnn,  input_shape=(30, 160, 160, 3)))\n",
    "    model.add(layers.LSTM(30 , return_sequences= True))\n",
    "\n",
    "    model.add(layers.TimeDistributed(layers.Dense(90)))\n",
    "    model.add(layers.Dropout(0.1))\n",
    "\n",
    "    model.add(layers.GlobalAveragePooling1D())\n",
    "\n",
    "    model.add(layers.Dense(512, activation='relu'))\n",
    "    model.add(layers.Dropout(0.3))\n",
    "\n",
    "    model.add(layers.Dense(num_classes, activation=\"sigmoid\"))\n",
    "\n",
    "    adam = optimizers.Adam(lr=0.0005, beta_1=0.9, beta_2=0.999, epsilon=1e-08)\n",
    "    model.load_weights(wight)\n",
    "    rms = optimizers.RMSprop()\n",
    "\n",
    "    model.compile(loss='binary_crossentropy', optimizer=adam, metrics=[\"accuracy\"])\n",
    "\n",
    "    return model\n"
   ]
  },
  {
   "cell_type": "code",
   "execution_count": 5,
   "metadata": {},
   "outputs": [],
   "source": [
    "import numpy as np\n",
    "from skimage.transform import resize\n",
    "np.random.seed(1234)\n",
    "model22 = mamon_videoFightModel2(tf)\n"
   ]
  },
  {
   "cell_type": "code",
   "execution_count": 45,
   "metadata": {},
   "outputs": [
    {
     "output_type": "stream",
     "name": "stdout",
     "text": [
      "normal:mp4@1280x640\n"
     ]
    },
    {
     "output_type": "error",
     "ename": "KeyboardInterrupt",
     "evalue": "",
     "traceback": [
      "\u001b[0;31m---------------------------------------------------------------------------\u001b[0m",
      "\u001b[0;31mKeyboardInterrupt\u001b[0m                         Traceback (most recent call last)",
      "\u001b[0;32m<ipython-input-45-ea31f0d20393>\u001b[0m in \u001b[0;36m<module>\u001b[0;34m\u001b[0m\n\u001b[1;32m     12\u001b[0m     \"\"\"\n\u001b[1;32m     13\u001b[0m     \u001b[0mcv2\u001b[0m\u001b[0;34m.\u001b[0m\u001b[0mimshow\u001b[0m\u001b[0;34m(\u001b[0m\u001b[0;34m'frame'\u001b[0m\u001b[0;34m,\u001b[0m\u001b[0mframe\u001b[0m\u001b[0;34m)\u001b[0m\u001b[0;34m\u001b[0m\u001b[0;34m\u001b[0m\u001b[0m\n\u001b[0;32m---> 14\u001b[0;31m     \u001b[0;32mif\u001b[0m \u001b[0mcv2\u001b[0m\u001b[0;34m.\u001b[0m\u001b[0mwaitKey\u001b[0m\u001b[0;34m(\u001b[0m\u001b[0;36m20\u001b[0m\u001b[0;34m)\u001b[0m \u001b[0;34m&\u001b[0m \u001b[0;36m0xFF\u001b[0m \u001b[0;34m==\u001b[0m \u001b[0mord\u001b[0m\u001b[0;34m(\u001b[0m\u001b[0;34m'q'\u001b[0m\u001b[0;34m)\u001b[0m\u001b[0;34m:\u001b[0m\u001b[0;34m\u001b[0m\u001b[0;34m\u001b[0m\u001b[0m\n\u001b[0m\u001b[1;32m     15\u001b[0m         \u001b[0;32mbreak\u001b[0m\u001b[0;34m\u001b[0m\u001b[0;34m\u001b[0m\u001b[0m\n\u001b[1;32m     16\u001b[0m \u001b[0;34m\u001b[0m\u001b[0m\n",
      "\u001b[0;31mKeyboardInterrupt\u001b[0m: "
     ]
    }
   ],
   "source": [
    "import pafy\n",
    "url = 'https://www.youtube.com/watch?v=jS9bQk4x0_M'\n",
    "vPafy = pafy.new(url)\n",
    "play = vPafy.getbest()\n",
    "print(play)\n",
    "#start the video\n",
    "cap = cv2.VideoCapture(play.url)\n",
    "while (True):\n",
    "    ret,frame = cap.read()\n",
    "    \"\"\"\n",
    "    your code here\n",
    "    \"\"\"\n",
    "    cv2.imshow('frame',frame)\n",
    "    if cv2.waitKey(20) & 0xFF == ord('q'):\n",
    "        break    \n",
    "\n",
    "cap.release()\n",
    "cv2.destroyAllWindows()\n"
   ]
  },
  {
   "cell_type": "code",
   "execution_count": 65,
   "metadata": {},
   "outputs": [],
   "source": []
  },
  {
   "cell_type": "code",
   "execution_count": 18,
   "metadata": {},
   "outputs": [
    {
     "output_type": "execute_result",
     "data": {
      "text/plain": [
       "False"
      ]
     },
     "metadata": {},
     "execution_count": 18
    }
   ],
   "source": [
    "vc.isOpened()"
   ]
  },
  {
   "cell_type": "code",
   "execution_count": 14,
   "metadata": {},
   "outputs": [],
   "source": [
    "def video_mamonreader(cv2,filename):\n",
    "    frames = np.zeros((30, 160, 160, 3), dtype=np.float)\n",
    "    i=0\n",
    "    print(frames.shape)\n",
    "    vc = cv2.VideoCapture('http://721585b6ef79.ngrok.io/video_feed')\n",
    "    # print(play.url)\n",
    "    if vc.isOpened():\n",
    "        rval , frame = vc.read()\n",
    "    else:\n",
    "        rval = False\n",
    "    frm = resize(frame,(160,160,3))\n",
    "    frm = np.expand_dims(frm,axis=0)\n",
    "    if(np.max(frm)>1):\n",
    "        frm = frm/255.0\n",
    "    frames[i][:] = frm\n",
    "    i +=1\n",
    "    print(\"reading video\")\n",
    "    while i < 30:\n",
    "        rval, frame = vc.read()\n",
    "        frm = resize(frame,(160,160,3))\n",
    "        frm = np.expand_dims(frm,axis=0)\n",
    "        if(np.max(frm)>1):\n",
    "            frm = frm/255.0\n",
    "        frames[i][:] = frm\n",
    "        i +=1\n",
    "    return frames"
   ]
  },
  {
   "cell_type": "code",
   "execution_count": 7,
   "metadata": {},
   "outputs": [],
   "source": [
    "def pred_fight(model,video,acuracy=0.9):\n",
    "    pred_test = model.predict(video)\n",
    "    if pred_test[0][1] >=acuracy:\n",
    "        return True , pred_test[0][1]\n",
    "    else:\n",
    "        return False , pred_test[0][1]"
   ]
  },
  {
   "cell_type": "code",
   "execution_count": null,
   "metadata": {},
   "outputs": [],
   "source": []
  },
  {
   "cell_type": "code",
   "execution_count": 8,
   "metadata": {},
   "outputs": [],
   "source": [
    "\n",
    "def main_fight(vidoss):\n",
    "    vid = video_mamonreader(cv2,vidoss)\n",
    "    datav = np.zeros((1, 30, 160, 160, 3), dtype=np.float)\n",
    "    datav[0][:][:] = vid\n",
    "    millis = int(round(time.time() * 1000))\n",
    "    print(millis)\n",
    "    f , precent = pred_fight(model22,datav,acuracy=0.65)\n",
    "    millis2 = int(round(time.time() * 1000))\n",
    "    print(millis2)\n",
    "    res_mamon = {'fight':f , 'precentegeoffight':str(precent)}\n",
    "    res_mamon['processing_time'] =  str(millis2-millis)\n",
    "    return res_mamon"
   ]
  },
  {
   "cell_type": "code",
   "execution_count": 9,
   "metadata": {},
   "outputs": [
    {
     "output_type": "stream",
     "name": "stdout",
     "text": [
      "(30, 160, 160, 3)\n",
      "reading video\n",
      "1613208479293\n",
      "1613208490046\n"
     ]
    }
   ],
   "source": [
    "res = main_fight(vidoss= 0)"
   ]
  },
  {
   "cell_type": "code",
   "execution_count": 10,
   "metadata": {},
   "outputs": [
    {
     "output_type": "execute_result",
     "data": {
      "text/plain": [
       "{'fight': True, 'precentegeoffight': '0.6987911', 'processing_time': '10753'}"
      ]
     },
     "metadata": {},
     "execution_count": 10
    }
   ],
   "source": [
    "res"
   ]
  },
  {
   "cell_type": "code",
   "execution_count": 12,
   "metadata": {},
   "outputs": [
    {
     "output_type": "stream",
     "name": "stdout",
     "text": [
      "(30, 160, 160, 3)\n"
     ]
    },
    {
     "output_type": "error",
     "ename": "UnboundLocalError",
     "evalue": "local variable 'frame' referenced before assignment",
     "traceback": [
      "\u001b[0;31m---------------------------------------------------------------------------\u001b[0m",
      "\u001b[0;31mUnboundLocalError\u001b[0m                         Traceback (most recent call last)",
      "\u001b[0;32m<ipython-input-12-f4ec38db7637>\u001b[0m in \u001b[0;36m<module>\u001b[0;34m\u001b[0m\n\u001b[0;32m----> 1\u001b[0;31m \u001b[0mres\u001b[0m \u001b[0;34m=\u001b[0m \u001b[0mmain_fight\u001b[0m\u001b[0;34m(\u001b[0m\u001b[0mvidoss\u001b[0m \u001b[0;34m=\u001b[0m \u001b[0;34m'http://721585b6ef79.ngrok.io/video_feed'\u001b[0m\u001b[0;34m)\u001b[0m\u001b[0;34m\u001b[0m\u001b[0;34m\u001b[0m\u001b[0m\n\u001b[0m",
      "\u001b[0;32m<ipython-input-7-478a310bb81f>\u001b[0m in \u001b[0;36mmain_fight\u001b[0;34m(vidoss)\u001b[0m\n\u001b[1;32m      1\u001b[0m \u001b[0;32mdef\u001b[0m \u001b[0mmain_fight\u001b[0m\u001b[0;34m(\u001b[0m\u001b[0mvidoss\u001b[0m\u001b[0;34m)\u001b[0m\u001b[0;34m:\u001b[0m\u001b[0;34m\u001b[0m\u001b[0;34m\u001b[0m\u001b[0m\n\u001b[0;32m----> 2\u001b[0;31m     \u001b[0mvid\u001b[0m \u001b[0;34m=\u001b[0m \u001b[0mvideo_mamonreader\u001b[0m\u001b[0;34m(\u001b[0m\u001b[0mcv2\u001b[0m\u001b[0;34m,\u001b[0m\u001b[0mvidoss\u001b[0m\u001b[0;34m)\u001b[0m\u001b[0;34m\u001b[0m\u001b[0;34m\u001b[0m\u001b[0m\n\u001b[0m\u001b[1;32m      3\u001b[0m     \u001b[0mdatav\u001b[0m \u001b[0;34m=\u001b[0m \u001b[0mnp\u001b[0m\u001b[0;34m.\u001b[0m\u001b[0mzeros\u001b[0m\u001b[0;34m(\u001b[0m\u001b[0;34m(\u001b[0m\u001b[0;36m1\u001b[0m\u001b[0;34m,\u001b[0m \u001b[0;36m30\u001b[0m\u001b[0;34m,\u001b[0m \u001b[0;36m160\u001b[0m\u001b[0;34m,\u001b[0m \u001b[0;36m160\u001b[0m\u001b[0;34m,\u001b[0m \u001b[0;36m3\u001b[0m\u001b[0;34m)\u001b[0m\u001b[0;34m,\u001b[0m \u001b[0mdtype\u001b[0m\u001b[0;34m=\u001b[0m\u001b[0mnp\u001b[0m\u001b[0;34m.\u001b[0m\u001b[0mfloat\u001b[0m\u001b[0;34m)\u001b[0m\u001b[0;34m\u001b[0m\u001b[0;34m\u001b[0m\u001b[0m\n\u001b[1;32m      4\u001b[0m     \u001b[0mdatav\u001b[0m\u001b[0;34m[\u001b[0m\u001b[0;36m0\u001b[0m\u001b[0;34m]\u001b[0m\u001b[0;34m[\u001b[0m\u001b[0;34m:\u001b[0m\u001b[0;34m]\u001b[0m\u001b[0;34m[\u001b[0m\u001b[0;34m:\u001b[0m\u001b[0;34m]\u001b[0m \u001b[0;34m=\u001b[0m \u001b[0mvid\u001b[0m\u001b[0;34m\u001b[0m\u001b[0;34m\u001b[0m\u001b[0m\n\u001b[1;32m      5\u001b[0m     \u001b[0mmillis\u001b[0m \u001b[0;34m=\u001b[0m \u001b[0mint\u001b[0m\u001b[0;34m(\u001b[0m\u001b[0mround\u001b[0m\u001b[0;34m(\u001b[0m\u001b[0mtime\u001b[0m\u001b[0;34m.\u001b[0m\u001b[0mtime\u001b[0m\u001b[0;34m(\u001b[0m\u001b[0;34m)\u001b[0m \u001b[0;34m*\u001b[0m \u001b[0;36m1000\u001b[0m\u001b[0;34m)\u001b[0m\u001b[0;34m)\u001b[0m\u001b[0;34m\u001b[0m\u001b[0;34m\u001b[0m\u001b[0m\n",
      "\u001b[0;32m<ipython-input-11-489880f23d79>\u001b[0m in \u001b[0;36mvideo_mamonreader\u001b[0;34m(cv2, filename)\u001b[0m\n\u001b[1;32m      9\u001b[0m     \u001b[0;32melse\u001b[0m\u001b[0;34m:\u001b[0m\u001b[0;34m\u001b[0m\u001b[0;34m\u001b[0m\u001b[0m\n\u001b[1;32m     10\u001b[0m         \u001b[0mrval\u001b[0m \u001b[0;34m=\u001b[0m \u001b[0;32mFalse\u001b[0m\u001b[0;34m\u001b[0m\u001b[0;34m\u001b[0m\u001b[0m\n\u001b[0;32m---> 11\u001b[0;31m     \u001b[0mfrm\u001b[0m \u001b[0;34m=\u001b[0m \u001b[0mresize\u001b[0m\u001b[0;34m(\u001b[0m\u001b[0mframe\u001b[0m\u001b[0;34m,\u001b[0m\u001b[0;34m(\u001b[0m\u001b[0;36m160\u001b[0m\u001b[0;34m,\u001b[0m\u001b[0;36m160\u001b[0m\u001b[0;34m,\u001b[0m\u001b[0;36m3\u001b[0m\u001b[0;34m)\u001b[0m\u001b[0;34m)\u001b[0m\u001b[0;34m\u001b[0m\u001b[0;34m\u001b[0m\u001b[0m\n\u001b[0m\u001b[1;32m     12\u001b[0m     \u001b[0mfrm\u001b[0m \u001b[0;34m=\u001b[0m \u001b[0mnp\u001b[0m\u001b[0;34m.\u001b[0m\u001b[0mexpand_dims\u001b[0m\u001b[0;34m(\u001b[0m\u001b[0mfrm\u001b[0m\u001b[0;34m,\u001b[0m\u001b[0maxis\u001b[0m\u001b[0;34m=\u001b[0m\u001b[0;36m0\u001b[0m\u001b[0;34m)\u001b[0m\u001b[0;34m\u001b[0m\u001b[0;34m\u001b[0m\u001b[0m\n\u001b[1;32m     13\u001b[0m     \u001b[0;32mif\u001b[0m\u001b[0;34m(\u001b[0m\u001b[0mnp\u001b[0m\u001b[0;34m.\u001b[0m\u001b[0mmax\u001b[0m\u001b[0;34m(\u001b[0m\u001b[0mfrm\u001b[0m\u001b[0;34m)\u001b[0m\u001b[0;34m>\u001b[0m\u001b[0;36m1\u001b[0m\u001b[0;34m)\u001b[0m\u001b[0;34m:\u001b[0m\u001b[0;34m\u001b[0m\u001b[0;34m\u001b[0m\u001b[0m\n",
      "\u001b[0;31mUnboundLocalError\u001b[0m: local variable 'frame' referenced before assignment"
     ]
    }
   ],
   "source": [
    "res = main_fight(vidoss = 'http://721585b6ef79.ngrok.io/video_feed')"
   ]
  },
  {
   "cell_type": "code",
   "execution_count": 37,
   "metadata": {},
   "outputs": [
    {
     "output_type": "execute_result",
     "data": {
      "text/plain": [
       "{'fight': True, 'precentegeoffight': '0.75018585', 'processing_time': '7117'}"
      ]
     },
     "metadata": {},
     "execution_count": 37
    }
   ],
   "source": [
    "res"
   ]
  },
  {
   "cell_type": "code",
   "execution_count": 24,
   "metadata": {},
   "outputs": [
    {
     "output_type": "stream",
     "name": "stdout",
     "text": [
      " * Serving Flask app \"main-webapi\" (lazy loading)\n",
      " * Environment: production\n",
      "\u001b[31m   WARNING: This is a development server. Do not use it in a production deployment.\u001b[0m\n",
      "\u001b[2m   Use a production WSGI server instead.\u001b[0m\n",
      " * Debug mode: off\n",
      " * Running on http://127.0.0.1:3091/ (Press CTRL+C to quit)\n"
     ]
    }
   ],
   "source": [
    "from flask import Flask , request , jsonify\n",
    "app = Flask(\"main-webapi\")\n",
    "graph = tf.compat.v1.get_default_graph()\n",
    "@app.route('/api/fight/',methods= ['GET','POST'])\n",
    "def main_fight(accuracyfight=0.91):\n",
    "    res_mamon = {}\n",
    "    # if os.path.exists('./tmp.mp4'):\n",
    "    #     os.remove('./tmp.mp4')\n",
    "    # filev = request.files['file']\n",
    "    # file = open(\"tmp.mp4\", \"wb\")\n",
    "    # file.write(filev.read())\n",
    "    # file.close()\n",
    "    \n",
    "    # vidf = video_mamonreader(cv2,\"tmp.mp4\")\n",
    "    vidl = request.links[\"link\"]\n",
    "    print(vidl,'\\n')\n",
    "    vid = video_mamonreader(cv2,vidl)\n",
    "    \n",
    "    datav = np.zeros((1, 30, 160, 160, 3), dtype=np.float)\n",
    "    datav[0][:][:] = vid\n",
    "    millis = int(round(time.time() * 1000))\n",
    "    f , precent = pred_fight(model22,datav,acuracy=0.91)\n",
    "    res_mamon = {'fight':f , 'precentegeoffight':str(precent)}\n",
    "    millis2 = int(round(time.time() * 1000))\n",
    "    res_mamon['processing_time'] =  str(millis2-millis)\n",
    "    resnd = jsonify(res_mamon)\n",
    "    resnd.status_code = 200\n",
    "    return resnd\n",
    "\n",
    "app.run(port=3091)"
   ]
  },
  {
   "cell_type": "code",
   "execution_count": null,
   "metadata": {},
   "outputs": [],
   "source": [
    "from flask import Flask , request , jsonify\n",
    "app = Flask(\"main-webapi\")\n",
    "graph = tf.compat.v1.get_default_graph()\n",
    "@app.route('/api/fight/',methods= ['GET','POST'])\n",
    "def main_fight(accuracyfight=0.91):\n",
    "    res_mamon = {}\n",
    "    if os.path.exists('./tmp.mp4'):\n",
    "        os.remove('./tmp.mp4')\n",
    "    filev = request.files['file']\n",
    "    file = open(\"tmp.mp4\", \"wb\")\n",
    "    file.write(filev.read())\n",
    "    file.close()\n",
    "    \n",
    "    vidf = video_mamonreader(cv2,\"tmp.mp4\")\n",
    "    vidl = request.files[\"link\"]\n",
    "    \n",
    "    vid = video_mamonreader(cv2,vidl)\n",
    "\n",
    "    datav = np.zeros((1, 30, 160, 160, 3), dtype=np.float)\n",
    "    datav[0][:][:] = vid\n",
    "    millis = int(round(time.time() * 1000))\n",
    "    f , precent = pred_fight(model22,datav,acuracy=0.91)\n",
    "    res_mamon = {'fight':f , 'precentegeoffight':str(precent)}\n",
    "    millis2 = int(round(time.time() * 1000))\n",
    "    res_mamon['processing_time'] =  str(millis2-millis)\n",
    "    resnd = jsonify(res_mamon)\n",
    "    resnd.status_code = 200\n",
    "    return resnd\n",
    "\n",
    "app.run(port=3091)"
   ]
  }
 ],
 "metadata": {
  "kernelspec": {
   "display_name": "Python 3.8.5 64-bit",
   "language": "python",
   "name": "python38564bit143a3f8c26cf4ed7a4d6f96862728dc7"
  },
  "language_info": {
   "codemirror_mode": {
    "name": "ipython",
    "version": 3
   },
   "file_extension": ".py",
   "mimetype": "text/x-python",
   "name": "python",
   "nbconvert_exporter": "python",
   "pygments_lexer": "ipython3",
   "version": "3.8.5-final"
  }
 },
 "nbformat": 4,
 "nbformat_minor": 2
}